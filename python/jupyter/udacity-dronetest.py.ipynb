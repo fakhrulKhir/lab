{
 "cells": [
  {
   "cell_type": "code",
   "execution_count": 17,
   "metadata": {},
   "outputs": [
    {
     "name": "stdout",
     "output_type": "stream",
     "text": [
      "Logs/TLog.txt\n",
      "<udacidrone.connection.mavlink_connection.MavlinkConnection object at 0x107223e10>\n",
      "- connection to drone created\n"
     ]
    }
   ],
   "source": [
    "# run this in conda env `fcnd` (ie. `conda activate fcnd`)\n",
    "# or follow the steps from the starter kit:\n",
    "# https://github.com/udacity/FCND-Term1-Starter-Kit\n",
    "\n",
    "# import packages\n",
    "from udacidrone import Drone\n",
    "from udacidrone.connection import MavlinkConnection\n",
    "\n",
    "# create connection to the simulator – get the simulator here):\n",
    "# https://github.com/udacity/FCND-Simulator-Releases/releases\n",
    "conn = MavlinkConnection('tcp:127.0.0.1:5760', threaded=True)\n",
    "drone = Drone(conn)\n",
    "\n",
    "print(conn)\n",
    "print(\"- connection to drone created\")"
   ]
  },
  {
   "cell_type": "code",
   "execution_count": 18,
   "metadata": {},
   "outputs": [
    {
     "name": "stdout",
     "output_type": "stream",
     "text": [
      "- drone started\n"
     ]
    }
   ],
   "source": [
    "# start the drone\n",
    "drone.start()\n",
    "print(\"- drone started\")"
   ]
  },
  {
   "cell_type": "code",
   "execution_count": 19,
   "metadata": {},
   "outputs": [
    {
     "name": "stdout",
     "output_type": "stream",
     "text": [
      "- drone armed\n"
     ]
    }
   ],
   "source": [
    "# take control of drone and arm the drone\n",
    "drone.take_control()\n",
    "drone.arm()\n",
    "print(\"- drone armed\")\n",
    "\n",
    "# at this point, the drone in your simulator should be armed (the propellers spin). \n",
    "# if not, it means that there's something wrong (connection, anaconda env, etc.)"
   ]
  },
  {
   "cell_type": "code",
   "execution_count": 20,
   "metadata": {},
   "outputs": [],
   "source": [
    "# set drone position and do a 3-meters take off \n",
    "drone.set_home_position(drone.global_position[0],\n",
    "                        drone.global_position[1],\n",
    "                        drone.global_position[2])\n",
    "\n",
    "drone.takeoff(3)"
   ]
  },
  {
   "cell_type": "code",
   "execution_count": 6,
   "metadata": {},
   "outputs": [],
   "source": [
    "# move the drone to given position\n",
    "drone.cmd_position(north=5, east=2, altitude=5, heading=0)\n",
    "\n",
    "# while running this code, observe the sensors \n",
    "# in simulator (latitude, longitude, altitude) \n",
    "# to see how the code reflects in our simulator."
   ]
  },
  {
   "cell_type": "code",
   "execution_count": 14,
   "metadata": {},
   "outputs": [],
   "source": [
    "# drive the drone into square\n",
    "square = [\n",
    "    (10, 0, 5, 0),\n",
    "    (10, 10, 5, 0),\n",
    "    (0, 10, 5, 0),\n",
    "    (0, 0, 5, 0),\n",
    "]\n",
    "\n",
    "# don't forget to import time for `sleep()` function\n",
    "import time\n",
    "\n",
    "for corner in square:\n",
    "    drone.cmd_position(*corner)\n",
    "    time.sleep(3) # need to sleep otherwise the drone won't react"
   ]
  },
  {
   "cell_type": "code",
   "execution_count": 21,
   "metadata": {},
   "outputs": [
    {
     "name": "stdout",
     "output_type": "stream",
     "text": [
      "Closing connection ...\n"
     ]
    }
   ],
   "source": [
    "# disarm the drone\n",
    "drone.disarm()\n",
    "\n",
    "# stop the drone (and close the connection)\n",
    "drone.stop()"
   ]
  }
 ],
 "metadata": {
  "kernelspec": {
   "display_name": "Python 3",
   "language": "python",
   "name": "python3"
  },
  "language_info": {
   "codemirror_mode": {
    "name": "ipython",
    "version": 3
   },
   "file_extension": ".py",
   "mimetype": "text/x-python",
   "name": "python",
   "nbconvert_exporter": "python",
   "pygments_lexer": "ipython3",
   "version": "3.6.3"
  }
 },
 "nbformat": 4,
 "nbformat_minor": 2
}
