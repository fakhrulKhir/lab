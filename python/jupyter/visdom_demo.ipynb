{
 "cells": [
  {
   "cell_type": "code",
   "execution_count": 74,
   "metadata": {},
   "outputs": [
    {
     "name": "stdout",
     "output_type": "stream",
     "text": [
      "visdom is up\n"
     ]
    }
   ],
   "source": [
    "import visdom\n",
    "import numpy as np\n",
    "\n",
    "v = visdom.Visdom()\n",
    "\n",
    "assert v.check_connection()\n",
    "\n",
    "print('visdom is up')"
   ]
  },
  {
   "cell_type": "code",
   "execution_count": 75,
   "metadata": {},
   "outputs": [
    {
     "name": "stdout",
     "output_type": "stream",
     "text": [
      "initiating visdom windows..\n",
      "→ done\n"
     ]
    }
   ],
   "source": [
    "print('initiating visdom windows..')\n",
    "windows = {\n",
    "'stat1':{\n",
    "    'type':'bar',\n",
    "    'data':[1, 2, 1], # init with 3 unstacked bars\n",
    " },\n",
    " 'stat2':   {\n",
    "    'type':'line',\n",
    "    'shape':(50,2),\n",
    " },\n",
    "    'stat3':   {\n",
    "    'type':'pie',\n",
    "    'data':[4,13,10] # init with X sections\n",
    " },\n",
    "}\n",
    "\n",
    "for win_name in windows:\n",
    "    win = windows[win_name]\n",
    "    if win['type'] is 'bar':\n",
    "        v.bar(win['data'], win=win_name)\n",
    "    \n",
    "    if win['type'] is 'line':\n",
    "        v.line(np.zeros(shape=win['shape']), win=win_name)\n",
    "    \n",
    "    if win['type'] is 'pie':\n",
    "        v.pie(win['data'], win=win_name)\n",
    "    \n",
    "print('→ done')"
   ]
  },
  {
   "cell_type": "code",
   "execution_count": 76,
   "metadata": {},
   "outputs": [
    {
     "data": {
      "text/plain": [
       "\"{'type': 'pie', 'data': [4, 13, 10]}\""
      ]
     },
     "execution_count": 76,
     "metadata": {},
     "output_type": "execute_result"
    }
   ],
   "source": [
    "# basic graphs: bar, line, chart\n",
    "\n",
    "# draw 3 stacked bars in stat1 window\n",
    "v.bar([(1,2),(3,2),(1,5)], win=windows['stat1'])\n",
    "\n",
    "# draw 2 stacked bars in new window\n",
    "v.bar([(1,2),(3,2)])\n",
    "\n",
    "# draw pie chart in stat3 window\n",
    "v.pie(X=[10,10,32,10,10,32], win=windows['stat3'])\n",
    "         \n",
    "# update"
   ]
  },
  {
   "cell_type": "code",
   "execution_count": 209,
   "metadata": {},
   "outputs": [
    {
     "name": "stdout",
     "output_type": "stream",
     "text": [
      "line_y dimension: 1. type: <class 'numpy.ndarray'>\n",
      "error creating visdom line: 'list' object has no attribute 'ndim'\n",
      "line_y dimension: 1. type: <class 'numpy.ndarray'>\n"
     ]
    },
    {
     "data": {
      "text/plain": [
       "'window_3629061dba6d6e'"
      ]
     },
     "execution_count": 209,
     "metadata": {},
     "output_type": "execute_result"
    }
   ],
   "source": [
    "# basic line graph (with no updates)\n",
    "# visdom line requires `ndim()` to be accessible\n",
    "\n",
    "# this will work because numpy array has `ndim` attribute\n",
    "line_y = np.random.rand(10)\n",
    "print('line_y dimension: {}. type: {}'.format(line_y.ndim, type(line_y)))\n",
    "v.line(Y=line_y, opts=dict(showlegend=True))\n",
    "\n",
    "# this will not work because built-in array has no `ndim` attribuet\n",
    "try:\n",
    "    line_y = [1,2,3]\n",
    "    print('line_y dimension: {}. type: {}'.format(line_y.ndim, type(line_y)))\n",
    "    v.line(Y=line_y, opts=dict(showlegend=True))\n",
    "except AttributeError as e:\n",
    "    print('error creating visdom line:', e)\n",
    "\n",
    "# wrap the array inside numpy array to make above scenario works\n",
    "line_y = np.array(line_y)\n",
    "print('line_y dimension: {}. type: {}'.format(line_y.ndim, type(line_y)))\n",
    "v.line(Y=line_y, opts=dict(showlegend=True))"
   ]
  },
  {
   "cell_type": "code",
   "execution_count": 210,
   "metadata": {},
   "outputs": [
    {
     "name": "stdout",
     "output_type": "stream",
     "text": [
      "line x: <class 'numpy.ndarray'>, dimension: 1, shape: (2,)\n",
      "[0 1]\n",
      "line y: <class 'numpy.ndarray'>, dimension: 1, shape: (2,)\n",
      "[0 2]\n",
      "adding x:1, y:2\n",
      "adding x:2, y:1\n",
      "adding x:3, y:2\n",
      "adding x:4, y:1\n",
      "adding x:5, y:6\n",
      "adding x:6, y:5\n",
      "adding x:7, y:5\n",
      "adding x:8, y:4\n",
      "adding x:9, y:5\n",
      "adding x:10, y:4\n",
      "adding x:11, y:4\n",
      "adding x:12, y:3\n",
      "adding x:13, y:3\n",
      "adding x:14, y:2\n",
      "adding x:15, y:3\n",
      "stabilizing y to 0 for x at 16\n"
     ]
    },
    {
     "data": {
      "text/plain": [
       "'window_36290620916a9c'"
      ]
     },
     "execution_count": 210,
     "metadata": {},
     "output_type": "execute_result"
    }
   ],
   "source": [
    "# draw line graph and push update every 0.5 second\n",
    "\n",
    "import time\n",
    "\n",
    "# start with x at [0, 1], and y at [0, 2]\n",
    "line_x = np.array([0, 1])\n",
    "line_y = np.array([0, 2])\n",
    "\n",
    "print('line x: {}, dimension: {}, shape: {}\\n{}'.format(type(line_x), \n",
    "                                                                     line_x.ndim, \n",
    "                                                                     line_x.shape, \n",
    "                                                                     line_x))\n",
    "print('line y: {}, dimension: {}, shape: {}\\n{}'.format(type(line_y), \n",
    "                                             line_y.ndim, \n",
    "                                             line_y.shape,\n",
    "                                             line_y))\n",
    "win = v.line(X=line_x, \n",
    "             Y=line_y, \n",
    "             name='initial state')\n",
    "\n",
    "epoch = 15\n",
    "new_y = line_y[-1]\n",
    "latest_x = line_x[-1]\n",
    "name = 'line updates'\n",
    "for i in range(latest_x, latest_x + epoch):\n",
    "    time.sleep(0.5)\n",
    "    latest_x = i\n",
    "    \n",
    "    if i % 2 == 0:\n",
    "        new_y -= 1\n",
    "    elif i % 3 == 0:\n",
    "        new_y += 1\n",
    "    elif i % 5 == 0:\n",
    "        new_y += 5\n",
    "\n",
    "    print('adding x:{}, y:{}'.format(i, new_y))\n",
    "    v.line(\n",
    "        X=np.array([i]),\n",
    "        Y=np.array([new_y]),\n",
    "        win=win,\n",
    "        name=name,\n",
    "        update='append',\n",
    "    )\n",
    "\n",
    "print('stabilizing y to 0 for x at', latest_x+1)\n",
    "time.sleep(0.5)\n",
    "v.line(\n",
    "    X=np.array([latest_x, latest_x+1]),\n",
    "    Y=np.array([new_y, 0]),\n",
    "    win=win,\n",
    "    name='stabilize y to 0',\n",
    "    update='append',\n",
    ")"
   ]
  },
  {
   "cell_type": "code",
   "execution_count": 141,
   "metadata": {},
   "outputs": [
    {
     "data": {
      "text/plain": [
       "'window_362900c87a86b0'"
      ]
     },
     "execution_count": 141,
     "metadata": {},
     "output_type": "execute_result"
    }
   ],
   "source": [
    "# more graphs: histogram, contour, etc\n",
    "\n",
    "# contour\n",
    "x = np.tile(np.arange(1, 101), (100, 1))\n",
    "y = x.transpose()\n",
    "X = np.exp((((x - 50) ** 2) + ((y - 50) ** 2)) / -(20.0 ** 2))\n",
    "v.contour(X=X, opts=dict(colormap='Viridis'))"
   ]
  },
  {
   "cell_type": "code",
   "execution_count": 142,
   "metadata": {},
   "outputs": [
    {
     "name": "stdout",
     "output_type": "stream",
     "text": [
      "create array from int range 1 to 5: <class 'numpy.ndarray'>\n",
      "[1 2 3 4 5]\n",
      "create 2d array `x` by spreading the range 5 times: <class 'numpy.ndarray'>, dimension: 2\n",
      "[[1 2 3 4 5]\n",
      " [1 2 3 4 5]\n",
      " [1 2 3 4 5]\n",
      " [1 2 3 4 5]\n",
      " [1 2 3 4 5]]\n",
      "transpose `x` and assign to y:\n",
      " [[1 1 1 1 1]\n",
      " [2 2 2 2 2]\n",
      " [3 3 3 3 3]\n",
      " [4 4 4 4 4]\n",
      " [5 5 5 5 5]]\n",
      "xy:\n",
      " [[16.  12.5 10.   8.5  8. ]\n",
      " [12.5  9.   6.5  5.   4.5]\n",
      " [10.   6.5  4.   2.5  2. ]\n",
      " [ 8.5  5.   2.5  1.   0.5]\n",
      " [ 8.   4.5  2.   0.5  0. ]]\n",
      "xy scaled:\n",
      " [[-4.    -3.125 -2.5   -2.125 -2.   ]\n",
      " [-3.125 -2.25  -1.625 -1.25  -1.125]\n",
      " [-2.5   -1.625 -1.    -0.625 -0.5  ]\n",
      " [-2.125 -1.25  -0.625 -0.25  -0.125]\n",
      " [-2.    -1.125 -0.5   -0.125 -0.   ]]\n",
      "surface x: <class 'numpy.ndarray'>, dimension: 2\n",
      "[[0.01831564 0.04393693 0.082085   0.11943297 0.13533528]\n",
      " [0.04393693 0.10539922 0.19691168 0.2865048  0.32465247]\n",
      " [0.082085   0.19691168 0.36787944 0.53526143 0.60653066]\n",
      " [0.11943297 0.2865048  0.53526143 0.77880078 0.8824969 ]\n",
      " [0.13533528 0.32465247 0.60653066 0.8824969  1.        ]]\n"
     ]
    },
    {
     "data": {
      "text/plain": [
       "'window_362900cd0bcee4'"
      ]
     },
     "execution_count": 142,
     "metadata": {},
     "output_type": "execute_result"
    }
   ],
   "source": [
    "# drawing a surface\n",
    "\n",
    "# create range\n",
    "a_range = np.arange(1, 6)\n",
    "print('create array from int range 1 to 5: {}\\n{}'.format(type(a_range), a_range))\n",
    "\n",
    "# create 5 rows of a_range, repeated 1 time each row\n",
    "x = np.tile(a_range, (5, 1))\n",
    "print('create 2d array `x` by spreading the range 5 times: {}, dimension: {}\\n{}'.format(type(tile), tile.ndim, tile))\n",
    "\n",
    "# transpose the tile\n",
    "y = x.transpose()\n",
    "print('transpose `x` and assign to y:\\n', y)\n",
    "\n",
    "# process x and y\n",
    "xy = (((x-5)**2) + ((y-5) ** 2)) / 2\n",
    "print('xy:\\n', xy)\n",
    "\n",
    "xy_scaled = xy/-(2 ** 2)\n",
    "print('xy scaled:\\n', xy_scaled)\n",
    "\n",
    "# draw the surface\n",
    "surface_x = np.exp(xy_scaled)\n",
    "print('surface x: {}, dimension: {}\\n{}'.format(type(surface_x), surface_x.ndim, surface_x))\n",
    "v.surf(X=surface_x, opts=dict(colormap='Viridis'))"
   ]
  },
  {
   "cell_type": "code",
   "execution_count": null,
   "metadata": {
    "collapsed": true
   },
   "outputs": [],
   "source": []
  },
  {
   "cell_type": "code",
   "execution_count": null,
   "metadata": {
    "collapsed": true
   },
   "outputs": [],
   "source": []
  }
 ],
 "metadata": {
  "kernelspec": {
   "display_name": "Python 3",
   "language": "python",
   "name": "python3"
  },
  "language_info": {
   "codemirror_mode": {
    "name": "ipython",
    "version": 3
   },
   "file_extension": ".py",
   "mimetype": "text/x-python",
   "name": "python",
   "nbconvert_exporter": "python",
   "pygments_lexer": "ipython3",
   "version": "3.6.5"
  }
 },
 "nbformat": 4,
 "nbformat_minor": 2
}
